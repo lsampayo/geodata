{
 "cells": [
  {
   "cell_type": "code",
   "execution_count": 58,
   "metadata": {},
   "outputs": [],
   "source": [
    "import pandas as pd\n",
    "import boto3\n",
    "import requests\n",
    "from datetime import date"
   ]
  },
  {
   "cell_type": "code",
   "execution_count": 59,
   "metadata": {},
   "outputs": [],
   "source": [
    "session = boto3.session.Session()"
   ]
  },
  {
   "cell_type": "code",
   "execution_count": 60,
   "metadata": {},
   "outputs": [],
   "source": [
    "s3 = session.resource(service_name='s3')"
   ]
  },
  {
   "cell_type": "code",
   "execution_count": 61,
   "metadata": {},
   "outputs": [],
   "source": [
    "bucketname = 'lems-spot-geodata-dev'\n",
    "data_folder = 'data'\n",
    "bucket = s3.Bucket(bucketname)"
   ]
  },
  {
   "cell_type": "code",
   "execution_count": 62,
   "metadata": {},
   "outputs": [],
   "source": [
    "source_files = [\"https://www.inegi.org.mx/contenidos/masiva/denue/denue_00_46111_csv.zip\", \"https://www.inegi.org.mx/contenidos/masiva/denue/denue_00_46112-46311_csv.zip\", \"https://www.inegi.org.mx/contenidos/masiva/denue/denue_00_46321-46531_csv.zip\", \"https://www.inegi.org.mx/contenidos/masiva/denue/denue_00_46591-46911_csv.zip\"]"
   ]
  },
  {
   "cell_type": "code",
   "execution_count": null,
   "metadata": {},
   "outputs": [
    {
     "name": "stdout",
     "output_type": "stream",
     "text": [
      "Downloading file: https://www.inegi.org.mx/contenidos/masiva/denue/denue_00_46111_csv.zip\n",
      "Downloading file: https://www.inegi.org.mx/contenidos/masiva/denue/denue_00_46112-46311_csv.zip\n",
      "Downloading file: https://www.inegi.org.mx/contenidos/masiva/denue/denue_00_46321-46531_csv.zip\n",
      "Downloading file: https://www.inegi.org.mx/contenidos/masiva/denue/denue_00_46591-46911_csv.zip\n"
     ]
    }
   ],
   "source": [
    "i = 1\n",
    "for url_file in source_files:\n",
    "    print(f\"Downloading file: {url_file}\")\n",
    "    req = requests.get(url_file)\n",
    "    url_content = req.content\n",
    "    csv_file = open(f'/denue_{i}.csv', 'wb')\n",
    "    csv_file.write(url_content)\n",
    "    csv_file.close()\n",
    "    i += 1"
   ]
  },
  {
   "cell_type": "code",
   "execution_count": null,
   "metadata": {},
   "outputs": [],
   "source": [
    "! ls -lart"
   ]
  },
  {
   "cell_type": "code",
   "execution_count": null,
   "metadata": {},
   "outputs": [],
   "source": [
    "s3 = boto3.client(\"s3\")\n",
    "today = str(date.today())\n",
    "print(today)\n",
    "directory_name = today\n",
    "s3.put_object(Bucket=bucketname, Key=(f'{data_folder}/'+directory_name+'/'))"
   ]
  },
  {
   "cell_type": "code",
   "execution_count": null,
   "metadata": {},
   "outputs": [],
   "source": [
    "for i in range(len(source_files)):\n",
    "    s3.upload_file(\n",
    "        Filename=f\"/denue_{i+1}.csv\",\n",
    "        Bucket=bucketname,\n",
    "        Key=f\"{data_folder}/{directory_name}/denue_{i+1}.csv\",\n",
    "    )\n",
    "print('Ingestion to S3 was finished successfully')"
   ]
  }
 ],
 "metadata": {
  "instance_type": "ml.t3.medium",
  "kernelspec": {
   "display_name": "Python 3 (Data Science)",
   "language": "python",
   "name": "python3__SAGEMAKER_INTERNAL__arn:aws:sagemaker:us-east-1:081325390199:image/datascience-1.0"
  },
  "language_info": {
   "codemirror_mode": {
    "name": "ipython",
    "version": 3
   },
   "file_extension": ".py",
   "mimetype": "text/x-python",
   "name": "python",
   "nbconvert_exporter": "python",
   "pygments_lexer": "ipython3",
   "version": "3.7.10"
  }
 },
 "nbformat": 4,
 "nbformat_minor": 4
}
