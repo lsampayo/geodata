{
 "cells": [
  {
   "cell_type": "code",
   "execution_count": 47,
   "metadata": {},
   "outputs": [],
   "source": [
    "import pandas as pd\n",
    "import boto3\n",
    "import requests\n",
    "from datetime import date"
   ]
  },
  {
   "cell_type": "code",
   "execution_count": 25,
   "metadata": {},
   "outputs": [],
   "source": [
    "session = boto3.session.Session()"
   ]
  },
  {
   "cell_type": "code",
   "execution_count": 26,
   "metadata": {},
   "outputs": [],
   "source": [
    "s3 = session.resource(service_name='s3')"
   ]
  },
  {
   "cell_type": "code",
   "execution_count": 27,
   "metadata": {},
   "outputs": [],
   "source": [
    "bucketname = 'lems-spot-geodata-dev'\n",
    "data_folder = 'data'\n",
    "bucket = s3.Bucket(bucketname)"
   ]
  },
  {
   "cell_type": "code",
   "execution_count": 30,
   "metadata": {},
   "outputs": [],
   "source": [
    "source_files = [\"https://www.inegi.org.mx/contenidos/masiva/denue/denue_00_46111_csv.zip\", \"https://www.inegi.org.mx/contenidos/masiva/denue/denue_00_46112-46311_csv.zip\", \"https://www.inegi.org.mx/contenidos/masiva/denue/denue_00_46321-46531_csv.zip\", \"https://www.inegi.org.mx/contenidos/masiva/denue/denue_00_46591-46911_csv.zip\"]"
   ]
  },
  {
   "cell_type": "code",
   "execution_count": 43,
   "metadata": {},
   "outputs": [
    {
     "name": "stdout",
     "output_type": "stream",
     "text": [
      "Downloading file: https://www.inegi.org.mx/contenidos/masiva/denue/denue_00_46111_csv.zip\n",
      "Downloading file: https://www.inegi.org.mx/contenidos/masiva/denue/denue_00_46112-46311_csv.zip\n",
      "Downloading file: https://www.inegi.org.mx/contenidos/masiva/denue/denue_00_46321-46531_csv.zip\n",
      "Downloading file: https://www.inegi.org.mx/contenidos/masiva/denue/denue_00_46591-46911_csv.zip\n"
     ]
    }
   ],
   "source": [
    "i = 1\n",
    "for url_file in source_files:\n",
    "    print(f\"Downloading file: {url_file}\")\n",
    "    req = requests.get(url_file)\n",
    "    url_content = req.content\n",
    "    csv_file = open(f'denue_{i}.csv', 'wb')\n",
    "    csv_file.write(url_content)\n",
    "    csv_file.close()\n",
    "    i += 1"
   ]
  },
  {
   "cell_type": "code",
   "execution_count": 44,
   "metadata": {},
   "outputs": [
    {
     "name": "stdout",
     "output_type": "stream",
     "text": [
      "total 192740\n",
      "-rw-r--r-- 1 root root           0 May 23 04:57 README.md\n",
      "-rw-r--r-- 1 root root        2079 May 23 05:02 test.ipynb\n",
      "drwx------ 8 root nogroup     6144 May 23 05:09 ..\n",
      "drwxr-xr-x 2 root root        6144 May 23 05:19 .ipynb_checkpoints\n",
      "-rw-r--r-- 1 root root    51584880 May 23 22:47 denue_1.csv\n",
      "-rw-r--r-- 1 root root    48430218 May 23 22:47 denue_2.csv\n",
      "-rw-r--r-- 1 root root        3103 May 23 22:48 ingestion.ipynb\n",
      "-rw-r--r-- 1 root root    49738819 May 23 22:48 denue_3.csv\n",
      "drwxr-xr-x 8 root root        6144 May 23 22:49 .git\n",
      "drwxr-xr-x 4 root root        6144 May 23 22:49 .\n",
      "-rw-r--r-- 1 root root    47579045 May 23 22:49 denue_4.csv\n"
     ]
    }
   ],
   "source": [
    "! ls -lart"
   ]
  },
  {
   "cell_type": "code",
   "execution_count": 53,
   "metadata": {},
   "outputs": [
    {
     "name": "stdout",
     "output_type": "stream",
     "text": [
      "2022-05-23\n"
     ]
    },
    {
     "data": {
      "text/plain": [
       "{'ResponseMetadata': {'RequestId': 'SEFR3WPASH63V7H5',\n",
       "  'HostId': 'IqpVmSKAYcF7Hwgr20pX2q5xkB0eldY8OudqTm5+HV7HWqlcSJdaJMTcuA0ArxbN0GVq2qJ399o=',\n",
       "  'HTTPStatusCode': 200,\n",
       "  'HTTPHeaders': {'x-amz-id-2': 'IqpVmSKAYcF7Hwgr20pX2q5xkB0eldY8OudqTm5+HV7HWqlcSJdaJMTcuA0ArxbN0GVq2qJ399o=',\n",
       "   'x-amz-request-id': 'SEFR3WPASH63V7H5',\n",
       "   'date': 'Mon, 23 May 2022 23:02:45 GMT',\n",
       "   'etag': '\"d41d8cd98f00b204e9800998ecf8427e\"',\n",
       "   'server': 'AmazonS3',\n",
       "   'content-length': '0'},\n",
       "  'RetryAttempts': 0},\n",
       " 'ETag': '\"d41d8cd98f00b204e9800998ecf8427e\"'}"
      ]
     },
     "execution_count": 53,
     "metadata": {},
     "output_type": "execute_result"
    }
   ],
   "source": [
    "s3 = boto3.client(\"s3\")\n",
    "today = str(date.today())\n",
    "print(today)\n",
    "directory_name = today\n",
    "s3.put_object(Bucket=bucketname, Key=(f'{data_folder}/'+directory_name+'/'))"
   ]
  },
  {
   "cell_type": "code",
   "execution_count": 57,
   "metadata": {},
   "outputs": [
    {
     "name": "stdout",
     "output_type": "stream",
     "text": [
      "Ingestion to S3 was finished successfully\n"
     ]
    }
   ],
   "source": [
    "for i in range(len(source_files)):\n",
    "    s3.upload_file(\n",
    "        Filename=f\"denue_{i+1}.csv\",\n",
    "        Bucket=bucketname,\n",
    "        Key=f\"{data_folder}/{directory_name}/denue_{i+1}.csv\",\n",
    "    )\n",
    "print('Ingestion to S3 was finished successfully')"
   ]
  }
 ],
 "metadata": {
  "instance_type": "ml.t3.medium",
  "kernelspec": {
   "display_name": "Python 3 (Data Science)",
   "language": "python",
   "name": "python3__SAGEMAKER_INTERNAL__arn:aws:sagemaker:us-east-1:081325390199:image/datascience-1.0"
  },
  "language_info": {
   "codemirror_mode": {
    "name": "ipython",
    "version": 3
   },
   "file_extension": ".py",
   "mimetype": "text/x-python",
   "name": "python",
   "nbconvert_exporter": "python",
   "pygments_lexer": "ipython3",
   "version": "3.7.10"
  }
 },
 "nbformat": 4,
 "nbformat_minor": 4
}
