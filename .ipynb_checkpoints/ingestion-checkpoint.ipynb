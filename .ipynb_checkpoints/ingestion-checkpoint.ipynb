{
 "cells": [
  {
   "cell_type": "code",
   "execution_count": null,
   "metadata": {},
   "outputs": [],
   "source": [
    "import pandas as pd\n",
    "import boto3\n",
    "import zipfile\n",
    "from datetime import date\n",
    "import subprocess"
   ]
  },
  {
   "cell_type": "code",
   "execution_count": 118,
   "metadata": {},
   "outputs": [],
   "source": [
    "def runcmd(cmd, verbose = False, *args, **kwargs):\n",
    "\n",
    "    process = subprocess.Popen(\n",
    "        cmd,\n",
    "        stdout = subprocess.PIPE,\n",
    "        stderr = subprocess.PIPE,\n",
    "        text = True,\n",
    "        shell = True\n",
    "    )\n",
    "    std_out, std_err = process.communicate()\n",
    "    if verbose:\n",
    "        print(std_out.strip(), std_err)\n",
    "    pass"
   ]
  },
  {
   "cell_type": "code",
   "execution_count": 119,
   "metadata": {},
   "outputs": [],
   "source": [
    "session = boto3.session.Session()"
   ]
  },
  {
   "cell_type": "code",
   "execution_count": 120,
   "metadata": {},
   "outputs": [],
   "source": [
    "s3 = session.resource(service_name='s3')"
   ]
  },
  {
   "cell_type": "code",
   "execution_count": 121,
   "metadata": {},
   "outputs": [],
   "source": [
    "bucketname = 'lems-spot-geodata-dev'\n",
    "data_folder = 'data/raw'\n",
    "bucket = s3.Bucket(bucketname)"
   ]
  },
  {
   "cell_type": "code",
   "execution_count": 122,
   "metadata": {},
   "outputs": [],
   "source": [
    "source_files = [\"https://www.inegi.org.mx/contenidos/masiva/denue/denue_00_46111_csv.zip\", \"https://www.inegi.org.mx/contenidos/masiva/denue/denue_00_46112-46311_csv.zip\", \"https://www.inegi.org.mx/contenidos/masiva/denue/denue_00_46321-46531_csv.zip\", \"https://www.inegi.org.mx/contenidos/masiva/denue/denue_00_46591-46911_csv.zip\", \"https://www.inegi.org.mx/contenidos/masiva/denue/denue_00_43_csv.zip\"]"
   ]
  },
  {
   "cell_type": "code",
   "execution_count": 123,
   "metadata": {},
   "outputs": [],
   "source": [
    "runcmd(f\"rm -R /data\")\n",
    "! mkdir -p /data"
   ]
  },
  {
   "cell_type": "code",
   "execution_count": 124,
   "metadata": {},
   "outputs": [
    {
     "name": "stdout",
     "output_type": "stream",
     "text": [
      "Downloading file: https://www.inegi.org.mx/contenidos/masiva/denue/denue_00_46111_csv.zip\n",
      "Downloading file: https://www.inegi.org.mx/contenidos/masiva/denue/denue_00_46112-46311_csv.zip\n",
      "Downloading file: https://www.inegi.org.mx/contenidos/masiva/denue/denue_00_46321-46531_csv.zip\n",
      "Downloading file: https://www.inegi.org.mx/contenidos/masiva/denue/denue_00_46591-46911_csv.zip\n"
     ]
    }
   ],
   "source": [
    "i = 1\n",
    "for url_file in source_files:\n",
    "    print(f\"Downloading file: {url_file}\")\n",
    "    runcmd(f\"wget -O /data/denue_{i}.zip {url_file}\", verbose = False)\n",
    "    i += 1"
   ]
  },
  {
   "cell_type": "code",
   "execution_count": 125,
   "metadata": {},
   "outputs": [
    {
     "name": "stdout",
     "output_type": "stream",
     "text": [
      "Unzipped files successfully\n"
     ]
    }
   ],
   "source": [
    "for i in range(len(source_files)):\n",
    "    with zipfile.ZipFile(f\"/data/denue_{i+1}.zip\",\"r\") as zip_ref:\n",
    "        zip_ref.extractall(f\"/data/denue_{i+1}/\")\n",
    "    runcmd(f\"mv /data/denue_{i+1}/conjunto_de_datos/*.csv /data/denue_{i+1}/conjunto_de_datos/denue_{i+1}.csv\")\n",
    "print('Unzipped files successfully')"
   ]
  },
  {
   "cell_type": "code",
   "execution_count": 126,
   "metadata": {},
   "outputs": [
    {
     "name": "stdout",
     "output_type": "stream",
     "text": [
      "total 192712\n",
      "-rw-r--r-- 1 root root 51584880 Dec 16 22:00 denue_1.zip\n",
      "-rw-r--r-- 1 root root 48430218 Dec 16 22:00 denue_2.zip\n",
      "-rw-r--r-- 1 root root 49738819 Dec 16 22:00 denue_3.zip\n",
      "-rw-r--r-- 1 root root 47579045 Dec 16 22:00 denue_4.zip\n",
      "drwxr-xr-x 1 root root      127 May 24 00:43 ..\n",
      "drwxr-xr-x 5 root root       76 May 24 00:45 denue_1\n",
      "drwxr-xr-x 5 root root       76 May 24 00:45 denue_2\n",
      "drwxr-xr-x 5 root root       76 May 24 00:45 denue_3\n",
      "drwxr-xr-x 6 root root      142 May 24 00:45 .\n",
      "drwxr-xr-x 5 root root       76 May 24 00:45 denue_4\n"
     ]
    }
   ],
   "source": [
    "! ls -lart /data"
   ]
  },
  {
   "cell_type": "code",
   "execution_count": 127,
   "metadata": {},
   "outputs": [
    {
     "name": "stdout",
     "output_type": "stream",
     "text": [
      "2022-05-24\n"
     ]
    },
    {
     "data": {
      "text/plain": [
       "{'ResponseMetadata': {'RequestId': 'XT1AYGSGQ4RH3AKE',\n",
       "  'HostId': '8seoH8Kt5vnhdlTQaMnBN8nx7Utc5gYeY5eViyZazxiw+bqPv9ZgRrR7M16XMjcHTaEGpzzp7y4=',\n",
       "  'HTTPStatusCode': 200,\n",
       "  'HTTPHeaders': {'x-amz-id-2': '8seoH8Kt5vnhdlTQaMnBN8nx7Utc5gYeY5eViyZazxiw+bqPv9ZgRrR7M16XMjcHTaEGpzzp7y4=',\n",
       "   'x-amz-request-id': 'XT1AYGSGQ4RH3AKE',\n",
       "   'date': 'Tue, 24 May 2022 00:45:13 GMT',\n",
       "   'etag': '\"d41d8cd98f00b204e9800998ecf8427e\"',\n",
       "   'server': 'AmazonS3',\n",
       "   'content-length': '0'},\n",
       "  'RetryAttempts': 0},\n",
       " 'ETag': '\"d41d8cd98f00b204e9800998ecf8427e\"'}"
      ]
     },
     "execution_count": 127,
     "metadata": {},
     "output_type": "execute_result"
    }
   ],
   "source": [
    "s3 = boto3.client(\"s3\")\n",
    "today = str(date.today())\n",
    "print(today)\n",
    "directory_name = today\n",
    "s3.put_object(Bucket=bucketname, Key=(f'{data_folder}/'+directory_name+'/'))"
   ]
  },
  {
   "cell_type": "code",
   "execution_count": 128,
   "metadata": {},
   "outputs": [
    {
     "name": "stdout",
     "output_type": "stream",
     "text": [
      "Ingestion to S3 was finished successfully\n"
     ]
    }
   ],
   "source": [
    "for i in range(len(source_files)):\n",
    "    s3.upload_file(\n",
    "        Filename=f\"/data/denue_{i+1}/conjunto_de_datos/denue_{i+1}.csv\",\n",
    "        Bucket=bucketname,\n",
    "        Key=f\"{data_folder}/{directory_name}/denue_{i+1}.csv\",\n",
    "    )\n",
    "print('Ingestion to S3 was finished successfully')"
   ]
  }
 ],
 "metadata": {
  "instance_type": "ml.t3.medium",
  "kernelspec": {
   "display_name": "Python 3 (MXNet 1.8 Python 3.7 CPU Optimized)",
   "language": "python",
   "name": "python3__SAGEMAKER_INTERNAL__arn:aws:sagemaker:us-east-1:081325390199:image/mxnet-1.8-cpu-py37-ubuntu16.04-v1"
  },
  "language_info": {
   "codemirror_mode": {
    "name": "ipython",
    "version": 3
   },
   "file_extension": ".py",
   "mimetype": "text/x-python",
   "name": "python",
   "nbconvert_exporter": "python",
   "pygments_lexer": "ipython3",
   "version": "3.7.10"
  }
 },
 "nbformat": 4,
 "nbformat_minor": 4
}
